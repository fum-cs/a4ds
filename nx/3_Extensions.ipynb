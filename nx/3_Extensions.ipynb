{
  "cells": [
    {
      "cell_type": "markdown",
      "metadata": {
        "id": "_CZjNP7nuqVS"
      },
      "source": [
        "# Graph extentions"
      ]
    },
    {
      "cell_type": "markdown",
      "metadata": {
        "id": "un0VwIFflYX2"
      },
      "source": [
        "Import modules:"
      ]
    },
    {
      "cell_type": "code",
      "execution_count": 1,
      "metadata": {
        "id": "5fUEI_KvlQXJ"
      },
      "outputs": [],
      "source": [
        "import networkx as nx\n",
        "import numpy as np\n",
        "import matplotlib.pyplot as plt\n",
        "import pandas as pd\n",
        "from scipy import stats\n",
        "\n",
        "pd.set_option('display.max_colwidth', 200)\n",
        "%matplotlib inline"
      ]
    },
    {
      "cell_type": "markdown",
      "metadata": {},
      "source": [
        "# Weighted Graphs\n",
        "\n",
        "**Definition**: A weighted graph $G$ is a graph where each link $e$ has a real number $w(e)$ associated with it, called *weight. For a subgraph $H \\subseteq G$, the weight of $H$ is simply the sum of weights of its links: $w(H) = \\sum_{e \\in E(H)} w(e)$."
      ]
    },
    {
      "cell_type": "markdown",
      "metadata": {
        "id": "MKKNG4vzIrB3"
      },
      "source": [
        "**Example:**"
      ]
    },
    {
      "cell_type": "code",
      "execution_count": 2,
      "metadata": {
        "id": "E-dGcivhsdjj"
      },
      "outputs": [],
      "source": [
        "node_labels = [0,1,2,3,4]\n",
        "edge_labels = [(0, 1), (0,2), (1,2), (2,3), (3,4), (1,3)]\n",
        "weight = [1, 1, 2, 2, 4, 2]\n",
        "weighted_edges = [(edge_labels[i][0], edge_labels[i][1], weight[i]) for i in range(len(edge_labels))]"
      ]
    },
    {
      "cell_type": "code",
      "execution_count": 3,
      "metadata": {
        "id": "g1OvDFh7sdjk"
      },
      "outputs": [],
      "source": [
        "W = nx.Graph()\n",
        "W.add_nodes_from(node_labels)\n",
        "W.add_weighted_edges_from(weighted_edges, weight='weight')"
      ]
    },
    {
      "cell_type": "code",
      "execution_count": 4,
      "metadata": {
        "id": "200OT41Nsdjl"
      },
      "outputs": [
        {
          "data": {
            "text/plain": [
              "Text(0.5, 1.0, '$W$')"
            ]
          },
          "execution_count": 4,
          "metadata": {},
          "output_type": "execute_result"
        },
        {
          "data": {
            "image/png": "[encoded data removed]",
            "text/plain": [
              "<Figure size 250x300 with 1 Axes>"
            ]
          },
          "metadata": {},
          "output_type": "display_data"
        }
      ],
      "source": [
        "fig, axs = plt.subplots(figsize=(2.5,3), facecolor='w', nrows=1, ncols=1, constrained_layout=True)\n",
        "pos = nx.layout.circular_layout(W)\n",
        "nx.draw_networkx_nodes(W, pos, node_color=\"#cf52a5\", linewidths=1, ax=axs, node_size=200)\n",
        "nx.draw_networkx_edges(W, pos, width=weight, ax=axs)\n",
        "axs.axis('off')\n",
        "axs.set_title(r\"$W$\", fontsize=18)"
      ]
    },
    {
      "cell_type": "code",
      "execution_count": 5,
      "metadata": {
        "id": "Ic4iE1mhsdjl"
      },
      "outputs": [
        {
          "data": {
            "text/plain": [
              "EdgeDataView([(0, 1, 1), (0, 2, 1), (1, 2, 2), (1, 3, 2), (2, 3, 2), (3, 4, 4)])"
            ]
          },
          "execution_count": 5,
          "metadata": {},
          "output_type": "execute_result"
        }
      ],
      "source": [
        "W.edges.data(\"weight\")"
      ]
    },
    {
      "cell_type": "code",
      "execution_count": 6,
      "metadata": {
        "id": "iG31QwQosdjm"
      },
      "outputs": [
        {
          "data": {
            "text/plain": [
              "array([[0, 1, 1, 0, 0],\n",
              "       [1, 0, 2, 2, 0],\n",
              "       [1, 2, 0, 2, 0],\n",
              "       [0, 2, 2, 0, 4],\n",
              "       [0, 0, 0, 4, 0]])"
            ]
          },
          "execution_count": 6,
          "metadata": {},
          "output_type": "execute_result"
        }
      ],
      "source": [
        "WA = nx.adjacency_matrix(W, weight='weight').todense()\n",
        "WA"
      ]
    },
    {
      "cell_type": "code",
      "execution_count": 7,
      "metadata": {
        "id": "HIfR1J1asdjm"
      },
      "outputs": [
        {
          "name": "stderr",
          "output_type": "stream",
          "text": [
            "C:\\Users\\m.amintoosi\\AppData\\Local\\Temp\\ipykernel_23944\\3096156229.py:2: MatplotlibDeprecationWarning: The get_cmap function was deprecated in Matplotlib 3.7 and will be removed in 3.11. Use ``matplotlib.colormaps[name]`` or ``matplotlib.colormaps.get_cmap()`` or ``pyplot.get_cmap()`` instead.\n",
            "  cmap_ = plt.cm.get_cmap('Greys_r')\n"
          ]
        },
        {
          "data": {
            "image/png": "[encoded data removed]",
            "text/plain": [
              "<Figure size 400x300 with 2 Axes>"
            ]
          },
          "metadata": {},
          "output_type": "display_data"
        }
      ],
      "source": [
        "fig, axs = plt.subplots(figsize=(4,3), facecolor='w', nrows=1, ncols=1)\n",
        "cmap_ = plt.cm.get_cmap('Greys_r')\n",
        "im = axs.imshow(WA, cmap=cmap_)\n",
        "cbar = plt.colorbar(im, ax=axs, ticks=[0,1,2,3,4])\n",
        "cbar.set_label(\"weights\")\n",
        "axs.set_xlabel(\"Nodes\"); axs.set_ylabel(\"Nodes\");"
      ]
    },
    {
      "cell_type": "markdown",
      "metadata": {},
      "source": [
        "# Directed graphs (Digraph)"
      ]
    },
    {
      "cell_type": "markdown",
      "metadata": {},
      "source": [
        "Sometimes, the direction of the connections between two nodes are relevant for modelling."
      ]
    },
    {
      "cell_type": "markdown",
      "metadata": {},
      "source": [
        "![image.png](data:image/png;base64,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)"
      ]
    },
    {
      "cell_type": "markdown",
      "metadata": {},
      "source": [
        "In certain cases, such as modeling a network of people based on phone calls, the direction of the connections becomes significant. We need to distinguish between the caller (sender) and the person answering the call (receiver). If we use undirected networks, this valuable information about who is who is lost. \n",
        "\n",
        "To address this, we can utilize directed graphs, where the links have a specific direction or sense."
      ]
    },
    {
      "cell_type": "markdown",
      "metadata": {},
      "source": [
        "**Definition**: A directed graph or digraph $D$ consists of a collection of vertices $V$, and a collection of arcs $E$, denoted as $D = (V,E)$. Each arc $e = \\langle u, v \\rangle$ connects vertex $u \\in V$ to another (not necessarily distinct) vertex $v$. The vertex $u$ is called the *origin* of $e$ and $v$ is called the *destination*."
      ]
    },
    {
      "cell_type": "markdown",
      "metadata": {
        "id": "d9EzV8sdtotg"
      },
      "source": [
        "## Connectivity in DiGraphs"
      ]
    },
    {
      "cell_type": "markdown",
      "metadata": {
        "id": "FSLHpJvyvktB"
      },
      "source": [
        "It is often important to \"measure\" the distance between one node and another. This is called \"Connectivity\" of the network.\n",
        "\n",
        "It is measured for both undirected and directed networks, and consists of finding paths between one node and another. \n"
      ]
    },
    {
      "cell_type": "markdown",
      "metadata": {
        "id": "hm151bE2smiC"
      },
      "source": [
        "**Definition**: Consider a digraph $D$. A directed path-($v_0, v_k$) in $D$ is an alternating sequence $[v_0, a_0, v_1, a_1, a_1, \\dots, v_{k-1}, a_{k-1}, v_k]$ of vertices and arcs of $D$ with $\\langle \\overrightarrow{v_i, v_{i+1}} \\rangle$. A *directed path* is a directed walk in which all arcs are distinct; a *directed path* is a directed path in which all vertices are also distinct."
      ]
    },
    {
      "cell_type": "markdown",
      "metadata": {
        "id": "iQTlpTHfvwyx"
      },
      "source": [
        "**Example:**"
      ]
    },
    {
      "cell_type": "markdown",
      "metadata": {
        "id": "s3wrc9zuvy2R"
      },
      "source": [
        "![image.png](data:image/png;base64,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)"
      ]
    },
    {
      "cell_type": "markdown",
      "metadata": {
        "id": "ATrxGsigvuX5"
      },
      "source": [
        "\n",
        "For the previous Graph, what would a path from node `V1` to `V4` look like?\n",
        "\n",
        "A path can be:\n",
        "\n",
        "`V1-> a -> V2 -> f -> V4`.\n",
        "\n",
        "On the other hand, we can also go from `V1` to `V4` as follows:\n",
        "\n",
        "`V1 -> a -> V2 -> b -> V3 -> c -> V4`.\n"
      ]
    },
    {
      "cell_type": "markdown",
      "metadata": {
        "id": "4WDiy21ewrOY"
      },
      "source": [
        "We will consider this concept of \"path\" as *node accessibility* in Sub-Chapter 4 as a property of the network."
      ]
    },
    {
      "cell_type": "markdown",
      "metadata": {
        "id": "9EP6sd1su6_z"
      },
      "source": [
        "## Weighted digraphs"
      ]
    },
    {
      "cell_type": "markdown",
      "metadata": {
        "id": "whlpHzLatEH5"
      },
      "source": [
        "**Definition**: A directed weighted graph $D$ consists of a collection of vertices $V$, a collection of links $E$ and weights $W$, denoted as $D = (V,E,W)$. Each link $e = \\langle u, v \\rangle$ connects vertex $u \\in V$ to another (not necessarily distinct) vertex $v$. The vertex $u$ is called the *origin* of $e$ and $v$ is called the *destination*."
      ]
    },
    {
      "cell_type": "markdown",
      "metadata": {
        "id": "ljsapIP2QwpO"
      },
      "source": [
        "**Example:**"
      ]
    },
    {
      "cell_type": "code",
      "execution_count": 8,
      "metadata": {
        "id": "_rJID9dtQ1m3"
      },
      "outputs": [],
      "source": [
        "node_labels = [0,1,2,3,4]\n",
        "edge_labels = [(0, 1), (0,2), (1,2), (2,3), (4,3), (3,4), (1,3), (4,0)]\n",
        "weight = [1, 1, 2, 2, 4, 2, 1, 2]\n",
        "weighted_edges = [(edge_labels[i][0], edge_labels[i][1], weight[i]) for i in range(len(edge_labels))]"
      ]
    },
    {
      "cell_type": "code",
      "execution_count": 9,
      "metadata": {
        "id": "sWv6253xQ1m4"
      },
      "outputs": [],
      "source": [
        "WD = nx.DiGraph()\n",
        "WD.add_nodes_from(node_labels)\n",
        "WD.add_weighted_edges_from(weighted_edges, weight='weight')"
      ]
    },
    {
      "cell_type": "code",
      "execution_count": 10,
      "metadata": {
        "id": "kC_-sBjbQ1m5"
      },
      "outputs": [
        {
          "data": {
            "text/plain": [
              "Text(0.5, 1.0, '$WD$')"
            ]
          },
          "execution_count": 10,
          "metadata": {},
          "output_type": "execute_result"
        },
        {
          "data": {
            "image/png": "[encoded data removed]",
            "text/plain": [
              "<Figure size 250x300 with 1 Axes>"
            ]
          },
          "metadata": {},
          "output_type": "display_data"
        }
      ],
      "source": [
        "fig, axs = plt.subplots(figsize=(2.5,3), facecolor='w', nrows=1, ncols=1, constrained_layout=True)\n",
        "pos = nx.layout.circular_layout(WD)\n",
        "nx.draw_networkx_nodes(WD, pos, node_color=\"#cf52a5\", linewidths=1, ax=axs, node_size=200)\n",
        "nx.draw_networkx_edges(WD, pos, width=weight, ax=axs)\n",
        "axs.axis('off')\n",
        "axs.set_title(r\"$WD$\", fontsize=18)"
      ]
    },
    {
      "cell_type": "markdown",
      "metadata": {
        "id": "J1K-AmjLtPsI"
      },
      "source": [
        "# Bipartite Graph"
      ]
    },
    {
      "cell_type": "markdown",
      "metadata": {
        "id": "P2jZ53ZM2Mcf"
      },
      "source": [
        "A bipartite graph can be defined as a graph whose vertices $V$ can be partitioned into two sets, $V_1$ and $V_2$,disjoint and non-empty, such that each link $E$ connects a vertex of $V_1$ to $V_2$. Formally it can be expressed as:\n",
        "\n",
        "$$\n",
        "G = (V_1 \\cup V_2, E)\n",
        "$$\n",
        "\n",
        "Where $V_1 \\cap V_2 = \\emptyset$ (i.e., $V_1$ and $V_2$ are disjoint) and for each $u,v \\in E$, $u \\in V_1$ and $v \\in V_2$."
      ]
    },
    {
      "cell_type": "code",
      "execution_count": 11,
      "metadata": {
        "id": "Meg5LIKD496f"
      },
      "outputs": [
        {
          "data": {
            "text/plain": [
              "['Slow Joy',\n",
              " 'La ciencia simple',\n",
              " 'Origami Angel',\n",
              " 'Jeff Rosenstock',\n",
              " 'Millencolin',\n",
              " 'NoFX']"
            ]
          },
          "execution_count": 11,
          "metadata": {},
          "output_type": "execute_result"
        }
      ],
      "source": [
        "list_artists_names = [\n",
        "    'Slow Joy', #0\n",
        "    'La ciencia simple', #1\n",
        "    'Origami Angel', #2 \n",
        "    'Jeff Rosenstock', #3 \n",
        "    'Millencolin', #4\n",
        "    'NoFX', #5\n",
        "    ]\n",
        "list_artists_names"
      ]
    },
    {
      "cell_type": "code",
      "execution_count": 12,
      "metadata": {
        "id": "Q7gIG5mV4RKH"
      },
      "outputs": [],
      "source": [
        "users_and_artists = {\n",
        "    0 : [0, 1, 2],\n",
        "    1 : [2, 3],\n",
        "    2 : [4, 5],\n",
        "    3 : [2, 4, 5]\n",
        "    }"
      ]
    },
    {
      "cell_type": "code",
      "execution_count": 13,
      "metadata": {
        "id": "uIUlo5U45Etv"
      },
      "outputs": [
        {
          "data": {
            "text/plain": [
              "[0, 1, 2, 3]"
            ]
          },
          "execution_count": 13,
          "metadata": {},
          "output_type": "execute_result"
        }
      ],
      "source": [
        "list_users = list(users_and_artists.keys())\n",
        "list_users"
      ]
    },
    {
      "cell_type": "code",
      "execution_count": 14,
      "metadata": {
        "id": "8v0nwBh-5KcP"
      },
      "outputs": [
        {
          "data": {
            "text/plain": [
              "[[0, 1, 2], [2, 3], [4, 5], [2, 4, 5]]"
            ]
          },
          "execution_count": 14,
          "metadata": {},
          "output_type": "execute_result"
        }
      ],
      "source": [
        "list_artists = list(users_and_artists.values())\n",
        "list_artists"
      ]
    },
    {
      "cell_type": "code",
      "execution_count": 15,
      "metadata": {
        "id": "WsQN_9TN-OsQ"
      },
      "outputs": [
        {
          "name": "stdout",
          "output_type": "stream",
          "text": [
            "[[0, 1, 2], [2, 3], [4, 5], [2, 4, 5]]\n"
          ]
        },
        {
          "data": {
            "text/plain": [
              "array([0, 1, 2, 3, 4, 5])"
            ]
          },
          "execution_count": 15,
          "metadata": {},
          "output_type": "execute_result"
        }
      ],
      "source": [
        "list_artists = list(users_and_artists.values())\n",
        "print(list_artists)\n",
        "list_artists = np.unique(np.concatenate(list_artists))\n",
        "list_artists"
      ]
    },
    {
      "cell_type": "code",
      "execution_count": 16,
      "metadata": {
        "id": "HWyxcHRl5WCX"
      },
      "outputs": [
        {
          "name": "stdout",
          "output_type": "stream",
          "text": [
            "U = 4 A = 6\n"
          ]
        }
      ],
      "source": [
        "U = len(list_users)\n",
        "A = len(list_artists)\n",
        "print(\"U = %i A = %i\" % (U, A))"
      ]
    },
    {
      "cell_type": "code",
      "execution_count": 17,
      "metadata": {
        "id": "TpJIkO_C42Iv"
      },
      "outputs": [
        {
          "data": {
            "text/plain": [
              "array([[0., 0., 0., 0., 0., 0.],\n",
              "       [0., 0., 0., 0., 0., 0.],\n",
              "       [0., 0., 0., 0., 0., 0.],\n",
              "       [0., 0., 0., 0., 0., 0.]])"
            ]
          },
          "execution_count": 17,
          "metadata": {},
          "output_type": "execute_result"
        }
      ],
      "source": [
        "conn_matrix = np.zeros(shape=(U,A))\n",
        "conn_matrix"
      ]
    },
    {
      "cell_type": "code",
      "execution_count": 18,
      "metadata": {
        "id": "c72qKDz16aZ3"
      },
      "outputs": [
        {
          "data": {
            "text/plain": [
              "[2, 3]"
            ]
          },
          "execution_count": 18,
          "metadata": {},
          "output_type": "execute_result"
        }
      ],
      "source": [
        "users_and_artists[1]"
      ]
    },
    {
      "cell_type": "code",
      "execution_count": 19,
      "metadata": {
        "id": "-DlfBT5h5ihv"
      },
      "outputs": [
        {
          "name": "stdout",
          "output_type": "stream",
          "text": [
            "[0, 1, 2]\n",
            "[2, 3]\n",
            "[4, 5]\n",
            "[2, 4, 5]\n"
          ]
        }
      ],
      "source": [
        "for i_u in range(U):\n",
        "  print(users_and_artists[i_u])\n",
        "  #for l_artists in users_and_artists[i_u]:\n",
        "  #  print(l_artists)\n",
        "  conn_matrix[i_u, users_and_artists[i_u]] = 1"
      ]
    },
    {
      "cell_type": "code",
      "execution_count": 20,
      "metadata": {
        "id": "VmLG1NeWPD7L"
      },
      "outputs": [
        {
          "data": {
            "text/plain": [
              "array([[1., 1., 1., 0., 0., 0.],\n",
              "       [0., 0., 1., 1., 0., 0.],\n",
              "       [0., 0., 0., 0., 1., 1.],\n",
              "       [0., 0., 1., 0., 1., 1.]])"
            ]
          },
          "execution_count": 20,
          "metadata": {},
          "output_type": "execute_result"
        }
      ],
      "source": [
        "conn_matrix"
      ]
    },
    {
      "cell_type": "markdown",
      "metadata": {
        "id": "Z5Jcr_ccQKFz"
      },
      "source": [
        "## Graph of users connected by artists"
      ]
    },
    {
      "cell_type": "code",
      "execution_count": 21,
      "metadata": {
        "id": "sU6xEaulRW18"
      },
      "outputs": [
        {
          "data": {
            "text/plain": [
              "array([1., 1., 1., 0., 0., 0.])"
            ]
          },
          "execution_count": 21,
          "metadata": {},
          "output_type": "execute_result"
        }
      ],
      "source": [
        "conn_matrix[0,:]"
      ]
    },
    {
      "cell_type": "code",
      "execution_count": 22,
      "metadata": {
        "id": "Pr4mLY4cRbTd"
      },
      "outputs": [
        {
          "data": {
            "text/plain": [
              "array([0., 0., 1., 1., 0., 0.])"
            ]
          },
          "execution_count": 22,
          "metadata": {},
          "output_type": "execute_result"
        }
      ],
      "source": [
        "conn_matrix[1,:]"
      ]
    },
    {
      "cell_type": "code",
      "execution_count": 23,
      "metadata": {
        "id": "v0FRwP4qPE1q"
      },
      "outputs": [],
      "source": [
        "users_mat = np.zeros(shape=(U,U))\n",
        "for i in range(U):\n",
        "  for j in range(i+1, U):\n",
        "    if np.sum(conn_matrix[i,:]*conn_matrix[j,:])>0:\n",
        "      users_mat[i,j] = np.sum(conn_matrix[i,:]*conn_matrix[j,:]) # 1\n",
        "    users_mat[j,i] = users_mat[i,j]"
      ]
    },
    {
      "cell_type": "code",
      "execution_count": 24,
      "metadata": {
        "id": "-2MBwj6qRucE"
      },
      "outputs": [
        {
          "data": {
            "text/plain": [
              "array([[0., 1., 0., 1.],\n",
              "       [1., 0., 0., 1.],\n",
              "       [0., 0., 0., 2.],\n",
              "       [1., 1., 2., 0.]])"
            ]
          },
          "execution_count": 24,
          "metadata": {},
          "output_type": "execute_result"
        }
      ],
      "source": [
        "users_mat"
      ]
    },
    {
      "cell_type": "code",
      "execution_count": 25,
      "metadata": {
        "id": "TQ7TWD6dXQe-"
      },
      "outputs": [],
      "source": [
        "G_users = nx.Graph(users_mat)"
      ]
    },
    {
      "cell_type": "code",
      "execution_count": 26,
      "metadata": {
        "id": "WsMTWlEDjhrp"
      },
      "outputs": [],
      "source": [
        "labels = nx.get_edge_attributes(G_users,'weight')"
      ]
    },
    {
      "cell_type": "code",
      "execution_count": 27,
      "metadata": {
        "id": "auy3DZNnUmaf"
      },
      "outputs": [
        {
          "data": {
            "text/plain": [
              "Text(0.5, 1.0, '$Graph\\\\ (Users)$')"
            ]
          },
          "execution_count": 27,
          "metadata": {},
          "output_type": "execute_result"
        },
        {
          "data": {
            "image/png": "[encoded data removed]",
            "text/plain": [
              "<Figure size 400x400 with 1 Axes>"
            ]
          },
          "metadata": {},
          "output_type": "display_data"
        }
      ],
      "source": [
        "fig, axs = plt.subplots(figsize=(4,4), facecolor='w', nrows=1, ncols=1, constrained_layout=True)\n",
        "pos = nx.layout.circular_layout(G_users)\n",
        "nx.draw_networkx_nodes(G_users, pos, node_color=\"#52cfa5\", linewidths=1, ax=axs, node_size=500)\n",
        "nx.draw_networkx_edges(G_users, pos, width=list(labels.values()), ax=axs)\n",
        "nx.draw_networkx_edge_labels(G_users,pos=pos,edge_labels=labels)\n",
        "axs.axis('off')\n",
        "axs.set_title(r\"$Graph\\ (Users)$\", fontsize=12)"
      ]
    },
    {
      "cell_type": "markdown",
      "metadata": {
        "id": "QsDGb0lSQOGk"
      },
      "source": [
        "## Graph of artists connected by users"
      ]
    },
    {
      "cell_type": "code",
      "execution_count": 28,
      "metadata": {
        "id": "JbO69ub0SKAc"
      },
      "outputs": [],
      "source": [
        "artists_mat = np.zeros(shape=(A,A))\n",
        "for i in range(A):\n",
        "  for j in range(i+1, A):\n",
        "    if np.sum(conn_matrix[:,i]*conn_matrix[:,j])>0:\n",
        "      artists_mat[i,j] = np.sum(conn_matrix[:,i]*conn_matrix[:,j])\n",
        "      artists_mat[j,i] = artists_mat[i,j]"
      ]
    },
    {
      "cell_type": "code",
      "execution_count": 29,
      "metadata": {
        "id": "GmFrOFuLSdxU"
      },
      "outputs": [
        {
          "data": {
            "text/plain": [
              "array([[0., 1., 1., 0., 0., 0.],\n",
              "       [1., 0., 1., 0., 0., 0.],\n",
              "       [1., 1., 0., 1., 1., 1.],\n",
              "       [0., 0., 1., 0., 0., 0.],\n",
              "       [0., 0., 1., 0., 0., 2.],\n",
              "       [0., 0., 1., 0., 2., 0.]])"
            ]
          },
          "execution_count": 29,
          "metadata": {},
          "output_type": "execute_result"
        }
      ],
      "source": [
        "artists_mat"
      ]
    },
    {
      "cell_type": "code",
      "execution_count": 30,
      "metadata": {
        "id": "otc2O0tqZPen"
      },
      "outputs": [],
      "source": [
        "G_artists = nx.Graph(artists_mat)"
      ]
    },
    {
      "cell_type": "code",
      "execution_count": 31,
      "metadata": {
        "id": "wjQk28btehpA"
      },
      "outputs": [],
      "source": [
        "labels = nx.get_edge_attributes(G_artists,'weight')"
      ]
    },
    {
      "cell_type": "code",
      "execution_count": 32,
      "metadata": {
        "id": "DkwZN5zAiz9y"
      },
      "outputs": [
        {
          "data": {
            "text/plain": [
              "{(0, 1): 1.0,\n",
              " (0, 2): 1.0,\n",
              " (1, 2): 1.0,\n",
              " (2, 3): 1.0,\n",
              " (2, 4): 1.0,\n",
              " (2, 5): 1.0,\n",
              " (4, 5): 2.0}"
            ]
          },
          "execution_count": 32,
          "metadata": {},
          "output_type": "execute_result"
        }
      ],
      "source": [
        "labels"
      ]
    },
    {
      "cell_type": "code",
      "execution_count": 33,
      "metadata": {
        "id": "tswP6TCAicya"
      },
      "outputs": [],
      "source": [
        "labels = nx.get_edge_attributes(G_artists, \"weight\")"
      ]
    },
    {
      "cell_type": "code",
      "execution_count": 34,
      "metadata": {
        "id": "Nh2zgFoCjRNB"
      },
      "outputs": [
        {
          "data": {
            "text/plain": [
              "[1.0, 1.0, 1.0, 1.0, 1.0, 1.0, 2.0]"
            ]
          },
          "execution_count": 34,
          "metadata": {},
          "output_type": "execute_result"
        }
      ],
      "source": [
        "list(labels.values())"
      ]
    },
    {
      "cell_type": "code",
      "execution_count": 35,
      "metadata": {
        "id": "HFYnsO-9ZPeq"
      },
      "outputs": [
        {
          "data": {
            "image/png": "[encoded data removed]",
            "text/plain": [
              "<Figure size 400x400 with 1 Axes>"
            ]
          },
          "metadata": {},
          "output_type": "display_data"
        }
      ],
      "source": [
        "fig, axs = plt.subplots(figsize=(4,4), facecolor='w', nrows=1, ncols=1, constrained_layout=True)\n",
        "pos = nx.layout.circular_layout(G_artists)\n",
        "nx.draw_networkx_nodes(G_artists, pos, node_color=\"#52cfa5\", linewidths=1, ax=axs, node_size=400)\n",
        "nx.draw_networkx_edges(G_artists, pos, width=list(labels.values()), ax=axs)\n",
        "nx.draw_networkx_edge_labels(G_artists,pos=pos,edge_labels=labels)\n",
        "axs.axis('off')\n",
        "_ = axs.set_title(r\"$Graph\\ (Users)$\", fontsize=12)"
      ]
    },
    {
      "cell_type": "markdown",
      "metadata": {
        "id": "xtE42MXEtV8U"
      },
      "source": [
        "## Other applications"
      ]
    },
    {
      "cell_type": "markdown",
      "metadata": {
        "id": "gD5GfhAP3eG3"
      },
      "source": [
        "Bipartite graphs find application in a wide range of diverse fields. For instance,\n",
        "\n",
        "+ Recommendation systems.\n",
        "+ Social network analysis.\n",
        "+ Matching problems.\n",
        "+ Data integration.\n",
        "+ Biology and genetics.\n",
        "+ Transport problems.\n",
        "+ Citation analysis."
      ]
    },
    {
      "cell_type": "markdown",
      "metadata": {
        "id": "MzPBMgne1UJn"
      },
      "source": [
        "## References \n"
      ]
    },
    {
      "cell_type": "markdown",
      "metadata": {
        "id": "ljrf6CyQ2vp1"
      },
      "source": [
        "1. Maarten van Steen (2010). Graph Theory and Complex Networks. An Introduction (Book).\n",
        "1. Newman, M. (2010). Networks: An Introduction (Book).\n",
        "Robin J. Wilson (1996). Introduction to Graph Theory (eBook: https://www.maths.ed.ac.uk/~v1ranick/papers/wilsongraph.pdf)."
      ]
    },
    {
      "cell_type": "markdown",
      "metadata": {
        "id": "ljbFPu0j1WAF"
      },
      "source": [
        "---"
      ]
    }
  ],
  "metadata": {
    "colab": {
      "provenance": [],
      "toc_visible": true
    },
    "kernelspec": {
      "display_name": "pth-gpu",
      "language": "python",
      "name": "python3"
    },
    "language_info": {
      "codemirror_mode": {
        "name": "ipython",
        "version": 3
      },
      "file_extension": ".py",
      "mimetype": "text/x-python",
      "name": "python",
      "nbconvert_exporter": "python",
      "pygments_lexer": "ipython3",
      "version": "3.10.16"
    }
  },
  "nbformat": 4,
  "nbformat_minor": 0
}
